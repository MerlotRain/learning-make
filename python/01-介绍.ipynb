{
 "cells": [
  {
   "cell_type": "markdown",
   "metadata": {},
   "source": []
  },
  {
   "cell_type": "markdown",
   "metadata": {},
   "source": [
    "# Python\n",
    "这个仓库的主要目的是对已经掌握了`Python`基础知识的同学，即使你没有完全掌握，那么也知道如何去查找资料。\n",
    "\n",
    "本仓库主要介绍`Python`工程化和一些常用库的操作\n",
    "\n",
    "## anaconda & python\n",
    "比较流行的两个环境就是官网的python和anaconda，从我的角度讲，我更喜欢官网的，因为anaconda太大了，而且主动安装了很多我们可能很多年不需要的库\n",
    "\n",
    "所以最好还是官网，然后创建虚拟环境\n",
    "\n",
    "```sh\n",
    "python -m venv .venv\n",
    "source ./venv/bin/activate\n",
    "# 此时环境切换到虚拟环境，可以用pip相关命令安装库到虚拟环境\n",
    "\n",
    "```\n",
    "\n",
    "## requirements.txt\n",
    "\n",
    "这个文件在大工程中很重要，它用来管理编译环境，确保多人开发时保持一致\n",
    "\n",
    "```txt\n",
    "numpy == 3.1 // 设置版本\n",
    "PyQt5 // 自己找版本\n",
    "```\n",
    "\n",
    "对应的命令是：\n",
    "```sh\n",
    "pip install -r requirements.txt\n",
    "```"
   ]
  }
 ],
 "metadata": {
  "language_info": {
   "name": "python"
  }
 },
 "nbformat": 4,
 "nbformat_minor": 2
}
